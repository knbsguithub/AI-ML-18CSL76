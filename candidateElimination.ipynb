{
 "cells": [
  {
   "cell_type": "code",
   "execution_count": 1,
   "id": "31da476a",
   "metadata": {},
   "outputs": [
    {
     "ename": "FileNotFoundError",
     "evalue": "[Errno 2] No such file or directory: 'ushap1.csv'",
     "output_type": "error",
     "traceback": [
      "\u001b[1;31m---------------------------------------------------------------------------\u001b[0m",
      "\u001b[1;31mFileNotFoundError\u001b[0m                         Traceback (most recent call last)",
      "\u001b[1;32m<ipython-input-1-dc8e508989a1>\u001b[0m in \u001b[0;36m<module>\u001b[1;34m\u001b[0m\n\u001b[0;32m      1\u001b[0m \u001b[1;32mimport\u001b[0m \u001b[0mcsv\u001b[0m\u001b[1;33m\u001b[0m\u001b[1;33m\u001b[0m\u001b[0m\n\u001b[0;32m      2\u001b[0m \u001b[0ma\u001b[0m\u001b[1;33m=\u001b[0m\u001b[1;33m[\u001b[0m\u001b[1;33m]\u001b[0m\u001b[1;33m\u001b[0m\u001b[1;33m\u001b[0m\u001b[0m\n\u001b[1;32m----> 3\u001b[1;33m \u001b[1;32mwith\u001b[0m \u001b[0mopen\u001b[0m\u001b[1;33m(\u001b[0m\u001b[1;34m\"ushap1.csv\"\u001b[0m\u001b[1;33m,\u001b[0m\u001b[1;34m\"r\"\u001b[0m\u001b[1;33m)\u001b[0m \u001b[1;32mas\u001b[0m \u001b[0mcsvfile\u001b[0m\u001b[1;33m:\u001b[0m\u001b[1;33m\u001b[0m\u001b[1;33m\u001b[0m\u001b[0m\n\u001b[0m\u001b[0;32m      4\u001b[0m     \u001b[0mfdata\u001b[0m\u001b[1;33m=\u001b[0m\u001b[0mcsv\u001b[0m\u001b[1;33m.\u001b[0m\u001b[0mreader\u001b[0m\u001b[1;33m(\u001b[0m\u001b[0mcsvfile\u001b[0m\u001b[1;33m)\u001b[0m\u001b[1;33m\u001b[0m\u001b[1;33m\u001b[0m\u001b[0m\n\u001b[0;32m      5\u001b[0m     \u001b[1;32mfor\u001b[0m \u001b[0mrow\u001b[0m \u001b[1;32min\u001b[0m \u001b[0mfdata\u001b[0m\u001b[1;33m:\u001b[0m\u001b[1;33m\u001b[0m\u001b[1;33m\u001b[0m\u001b[0m\n",
      "\u001b[1;31mFileNotFoundError\u001b[0m: [Errno 2] No such file or directory: 'ushap1.csv'"
     ]
    }
   ],
   "source": [
    "import csv\n",
    "a=[]\n",
    "with open(\"enjoySport.csv\",\"r\") as csvfile:\n",
    "    fdata=csv.reader(csvfile)\n",
    "    for row in fdata:\n",
    "        a.append(row)\n",
    "        print(row)\n",
    "num_att=len(a[0])-1\n",
    "S=['0']*num_att\n",
    "G=['?']*num_att\n",
    "print(S)\n",
    "print(G)\n",
    "temp=[]\n",
    "for i in range(0,num_att):\n",
    "    S[i]=a[0][i]\n",
    "print(\"-----------------\")\n",
    "for i in range(0,len(a)):\n",
    "    if a[i][num_att]==\"YES\":\n",
    "        for j in range(0,num_att):\n",
    "            if S[j]!=a[i][j]:\n",
    "                S[j]='?'\n",
    "        for j in range(0,num_att):\n",
    "            for k in range(0,len(temp)):\n",
    "                if temp[k][j]!=S[j] and temp[k][j]!='?':\n",
    "                    del temp[k]\n",
    "    if a[i][num_att]=='NO':\n",
    "        for j in range(0,num_att):\n",
    "            if a[i][j]!=S[j] and S[j]!='?':\n",
    "                G[j]=S[j]\n",
    "            temp.append(G)\n",
    "            G=['?']*num_att\n",
    "print(S)\n",
    "if len(temp)==0:\n",
    "    print(G)\n",
    "else:\n",
    "    print(temp)\n",
    "print(\"----------------------------------\")"
   ]
  },
  {
   "cell_type": "code",
   "execution_count": null,
   "id": "635ec32f",
   "metadata": {},
   "outputs": [],
   "source": []
  }
 ],
 "metadata": {
  "kernelspec": {
   "display_name": "Python 3",
   "language": "python",
   "name": "python3"
  },
  "language_info": {
   "codemirror_mode": {
    "name": "ipython",
    "version": 3
   },
   "file_extension": ".py",
   "mimetype": "text/x-python",
   "name": "python",
   "nbconvert_exporter": "python",
   "pygments_lexer": "ipython3",
   "version": "3.8.8"
  }
 },
 "nbformat": 4,
 "nbformat_minor": 5
}
