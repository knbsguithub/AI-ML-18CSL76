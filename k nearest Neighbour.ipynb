{
 "cells": [
  {
   "cell_type": "code",
   "execution_count": null,
   "id": "f8830c43",
   "metadata": {},
   "outputs": [],
   "source": [
    "from sklearn.model_selection import train_test_split\n",
    "from sklearn.neighbors import KNeighborsClassifier\n",
    "from sklearn import datasets\n",
    "\n",
    "iris=datasets.load_iris()\n",
    "print(\"Iris Data set loaded...\")\n",
    "\n",
    "x_train, x_test, y_train, y_test = train_test_split(iris.data,iris.target,test_size=0.1)\n",
    "print(\"Dataset is split into training and testing...\")\n",
    "print(\"Size of trainng data and its label\",x_train.shape,y_train.shape)\n",
    "print(\"Size of trainng data and its label\",x_test.shape, y_test.shape)\n",
    "\n",
    "for i in range(len(iris.target_names)):\n",
    "    print(\"Label\", i , \"-\",str(iris.target_names[i]))\n",
    "classifier = KNeighborsClassifier(n_neighbors=1)\n",
    "\n",
    "\n",
    "classifier.fit(x_train, y_train)\n",
    "y_pred=classifier.predict(x_test)\n",
    "\n",
    "\n",
    "print(\"Results of Classification using K-nn with K=1 \")\n",
    "for r in range(0,len(x_test)):\n",
    "    print(\" Sample:\", str(x_test[r]), \" Actual-label:\", str(y_test[r]), \" Predicted-label:\", str(y_pred[r]))\n",
    "print(\"Classification Accuracy :\" , classifier.score(x_test,y_test));\n",
    "\n",
    "from sklearn.metrics import classification_report, confusion_matrix\n",
    "print('Confusion Matrix')\n",
    "print(confusion_matrix(y_test,y_pred))\n",
    "print('Accuracy Metrics')\n",
    "print(classification_report(y_test,y_pred))"
   ]
  }
 ],
 "metadata": {
  "kernelspec": {
   "display_name": "Python 3",
   "language": "python",
   "name": "python3"
  },
  "language_info": {
   "codemirror_mode": {
    "name": "ipython",
    "version": 3
   },
   "file_extension": ".py",
   "mimetype": "text/x-python",
   "name": "python",
   "nbconvert_exporter": "python",
   "pygments_lexer": "ipython3",
   "version": "3.8.8"
  }
 },
 "nbformat": 4,
 "nbformat_minor": 5
}
